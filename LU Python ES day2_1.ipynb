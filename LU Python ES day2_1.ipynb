{
 "cells": [
  {
   "cell_type": "code",
   "execution_count": 1,
   "metadata": {},
   "outputs": [
    {
     "name": "stdout",
     "output_type": "stream",
     "text": [
      "Hello\n"
     ]
    }
   ],
   "source": [
    "print (\"Hello\")"
   ]
  },
  {
   "cell_type": "code",
   "execution_count": 2,
   "metadata": {},
   "outputs": [
    {
     "name": "stdout",
     "output_type": "stream",
     "text": [
      "Hello python\n"
     ]
    }
   ],
   "source": [
    "print (\"Hello python\")"
   ]
  },
  {
   "cell_type": "code",
   "execution_count": 6,
   "metadata": {},
   "outputs": [
    {
     "name": "stdout",
     "output_type": "stream",
     "text": [
      "Hello        python\n"
     ]
    }
   ],
   "source": [
    "print (\"Hello \\\n",
    "       python\")\n",
    "# / is for continuation"
   ]
  },
  {
   "cell_type": "code",
   "execution_count": 4,
   "metadata": {},
   "outputs": [
    {
     "name": "stdout",
     "output_type": "stream",
     "text": [
      "Hello python\n"
     ]
    }
   ],
   "source": [
    "print (\"Hello \\\n",
    "python\")"
   ]
  },
  {
   "cell_type": "code",
   "execution_count": 7,
   "metadata": {},
   "outputs": [
    {
     "name": "stdout",
     "output_type": "stream",
     "text": [
      "  Hello every one \n"
     ]
    }
   ],
   "source": [
    "print (\"\"\"  Hello every one \"\"\")"
   ]
  },
  {
   "cell_type": "code",
   "execution_count": 8,
   "metadata": {},
   "outputs": [
    {
     "name": "stdout",
     "output_type": "stream",
     "text": [
      "  (”)….(”)\n",
      "( ‘ o ‘ )\n",
      "(”)–(”)\n",
      "(””’)-(””’) \n"
     ]
    }
   ],
   "source": [
    " print (\"\"\"  (”)….(”)\n",
    "( ‘ o ‘ )\n",
    "(”)–(”)\n",
    "(””’)-(””’) \"\"\")\n",
    "\n",
    "#To use Text Art"
   ]
  },
  {
   "cell_type": "code",
   "execution_count": 9,
   "metadata": {},
   "outputs": [
    {
     "data": {
      "text/plain": [
       "'  (”)….(”)\\n( ‘ o ‘ )\\n(”)–(”)\\n(””’)-(””’) '"
      ]
     },
     "execution_count": 9,
     "metadata": {},
     "output_type": "execute_result"
    }
   ],
   "source": [
    "(\"\"\"  (”)….(”)\n",
    "( ‘ o ‘ )\n",
    "(”)–(”)\n",
    "(””’)-(””’) \"\"\")"
   ]
  },
  {
   "cell_type": "code",
   "execution_count": 10,
   "metadata": {},
   "outputs": [
    {
     "data": {
      "text/plain": [
       "'  (”)….(”)\\n( ‘ o ‘ )\\n(”)–(”)\\n(””’)-(””’) '"
      ]
     },
     "execution_count": 10,
     "metadata": {},
     "output_type": "execute_result"
    }
   ],
   "source": [
    "\"\"\"  (”)….(”)\n",
    "( ‘ o ‘ )\n",
    "(”)–(”)\n",
    "(””’)-(””’) \"\"\""
   ]
  },
  {
   "cell_type": "code",
   "execution_count": 12,
   "metadata": {},
   "outputs": [
    {
     "data": {
      "text/plain": [
       "'This Program is written by Hemant Negi'"
      ]
     },
     "execution_count": 12,
     "metadata": {},
     "output_type": "execute_result"
    }
   ],
   "source": [
    "\"\"\"This Program is written by Hemant Negi\"\"\""
   ]
  },
  {
   "cell_type": "code",
   "execution_count": 13,
   "metadata": {},
   "outputs": [
    {
     "data": {
      "text/plain": [
       "' This Program is written by Hemant Negi '"
      ]
     },
     "execution_count": 13,
     "metadata": {},
     "output_type": "execute_result"
    }
   ],
   "source": [
    "\"\"\" This Program is written by Hemant Negi \"\"\""
   ]
  },
  {
   "cell_type": "code",
   "execution_count": 14,
   "metadata": {},
   "outputs": [
    {
     "name": "stdout",
     "output_type": "stream",
     "text": [
      " This Program is written by Hemant Negi \n"
     ]
    }
   ],
   "source": [
    "print (\"\"\" This Program is written by Hemant Negi \"\"\")\n",
    "#Document String"
   ]
  },
  {
   "cell_type": "code",
   "execution_count": 15,
   "metadata": {},
   "outputs": [],
   "source": [
    "a = \"\"\" Select * from student \"\"\"\n",
    "#SQL Query"
   ]
  },
  {
   "cell_type": "code",
   "execution_count": 16,
   "metadata": {},
   "outputs": [
    {
     "name": "stdout",
     "output_type": "stream",
     "text": [
      "Hello world\n"
     ]
    }
   ],
   "source": [
    "print ('Hello world')"
   ]
  },
  {
   "cell_type": "code",
   "execution_count": 20,
   "metadata": {},
   "outputs": [
    {
     "name": "stdout",
     "output_type": "stream",
     "text": [
      "Python's world\n"
     ]
    }
   ],
   "source": [
    "print (\"Python's world\")\n",
    "#Can't give single Quote here"
   ]
  },
  {
   "cell_type": "code",
   "execution_count": 19,
   "metadata": {},
   "outputs": [
    {
     "name": "stdout",
     "output_type": "stream",
     "text": [
      "Into the Python's world\n"
     ]
    }
   ],
   "source": [
    "print (\"Into the Python's world\")\n",
    "#Can't give single Quote here"
   ]
  },
  {
   "cell_type": "code",
   "execution_count": 23,
   "metadata": {},
   "outputs": [
    {
     "name": "stdout",
     "output_type": "stream",
     "text": [
      "Welcome to the Python's world\n"
     ]
    }
   ],
   "source": [
    "print (\"Welcome to the Python's world\")\n",
    "#Can't give single Quote here"
   ]
  },
  {
   "cell_type": "code",
   "execution_count": 24,
   "metadata": {},
   "outputs": [
    {
     "name": "stdout",
     "output_type": "stream",
     "text": [
      "Hello\tPython\n"
     ]
    }
   ],
   "source": [
    "print (\"Hello\\tPython\")\n",
    "# \\t is for TAB (Space)"
   ]
  },
  {
   "cell_type": "code",
   "execution_count": 25,
   "metadata": {},
   "outputs": [
    {
     "name": "stdout",
     "output_type": "stream",
     "text": [
      "Hello\n",
      "Python\n"
     ]
    }
   ],
   "source": [
    "print (\"Hello\\nPython\")\n",
    "# \\n line separator, new line character (To create new line)"
   ]
  },
  {
   "cell_type": "code",
   "execution_count": 26,
   "metadata": {},
   "outputs": [
    {
     "name": "stdout",
     "output_type": "stream",
     "text": [
      "Python's world\n"
     ]
    }
   ],
   "source": [
    "print ('Python\\'s world')\n",
    "# by using \\ before ' we can use single quote (\\ means its English interpreter & not Python interpreter)"
   ]
  },
  {
   "cell_type": "code",
   "execution_count": 32,
   "metadata": {},
   "outputs": [
    {
     "name": "stdout",
     "output_type": "stream",
     "text": [
      "The name of person is  Harsh marks is  90 age is  30\n"
     ]
    }
   ],
   "source": [
    "name = \"Harsh\"\n",
    "marks = \"90\"\n",
    "age = \"30\"\n",
    "print (\"The name of person is \", name, \"marks is \", marks, \"age is \", age)\n",
    "# Sentence using ,(comma)"
   ]
  },
  {
   "cell_type": "code",
   "execution_count": 33,
   "metadata": {},
   "outputs": [
    {
     "ename": "TypeError",
     "evalue": "must be real number, not str",
     "output_type": "error",
     "traceback": [
      "\u001b[1;31m---------------------------------------------------------------------------\u001b[0m",
      "\u001b[1;31mTypeError\u001b[0m                                 Traceback (most recent call last)",
      "\u001b[1;32m<ipython-input-33-8f48b617b1ea>\u001b[0m in \u001b[0;36m<module>\u001b[1;34m\u001b[0m\n\u001b[1;32m----> 1\u001b[1;33m \u001b[0mprint\u001b[0m \u001b[1;33m(\u001b[0m\u001b[1;34m\"The name of person is %s marks is %f age is %d\"\u001b[0m\u001b[1;33m%\u001b[0m\u001b[1;33m(\u001b[0m\u001b[0mname\u001b[0m\u001b[1;33m,\u001b[0m\u001b[0mmarks\u001b[0m\u001b[1;33m,\u001b[0m \u001b[0mage\u001b[0m\u001b[1;33m)\u001b[0m\u001b[1;33m)\u001b[0m\u001b[1;33m\u001b[0m\u001b[1;33m\u001b[0m\u001b[0m\n\u001b[0m\u001b[0;32m      2\u001b[0m \u001b[1;31m# Using Formated Output\u001b[0m\u001b[1;33m\u001b[0m\u001b[1;33m\u001b[0m\u001b[1;33m\u001b[0m\u001b[0m\n\u001b[0;32m      3\u001b[0m \u001b[1;31m# %s is string, %f is float, %d is integer\u001b[0m\u001b[1;33m\u001b[0m\u001b[1;33m\u001b[0m\u001b[1;33m\u001b[0m\u001b[0m\n",
      "\u001b[1;31mTypeError\u001b[0m: must be real number, not str"
     ]
    }
   ],
   "source": [
    "print (\"The name of person is %s marks is %f age is %d\"%(name,marks, age))\n",
    "# Using Formated Output \n",
    "# %s is string, %f is float, %d is integer"
   ]
  },
  {
   "cell_type": "code",
   "execution_count": 35,
   "metadata": {},
   "outputs": [
    {
     "ename": "TypeError",
     "evalue": "must be real number, not str",
     "output_type": "error",
     "traceback": [
      "\u001b[1;31m---------------------------------------------------------------------------\u001b[0m",
      "\u001b[1;31mTypeError\u001b[0m                                 Traceback (most recent call last)",
      "\u001b[1;32m<ipython-input-35-444a71f1b3de>\u001b[0m in \u001b[0;36m<module>\u001b[1;34m\u001b[0m\n\u001b[1;32m----> 1\u001b[1;33m \u001b[0mprint\u001b[0m \u001b[1;33m(\u001b[0m\u001b[1;34m\"The name of person is %s marks is %f  age is %d\"\u001b[0m\u001b[1;33m%\u001b[0m\u001b[1;33m(\u001b[0m\u001b[0mname\u001b[0m\u001b[1;33m,\u001b[0m\u001b[0mmarks\u001b[0m\u001b[1;33m,\u001b[0m \u001b[0mage\u001b[0m\u001b[1;33m)\u001b[0m\u001b[1;33m)\u001b[0m\u001b[1;33m\u001b[0m\u001b[1;33m\u001b[0m\u001b[0m\n\u001b[0m",
      "\u001b[1;31mTypeError\u001b[0m: must be real number, not str"
     ]
    }
   ],
   "source": [
    "print (\"The name of person is %s marks is %f  age is %d\"%(name,marks, age))"
   ]
  },
  {
   "cell_type": "code",
   "execution_count": 37,
   "metadata": {},
   "outputs": [
    {
     "name": "stdout",
     "output_type": "stream",
     "text": [
      "The name of person is Harsh marks is 90.000000  age is 30\n"
     ]
    }
   ],
   "source": [
    "name = \"Harsh\"\n",
    "marks = 90\n",
    "age = 30\n",
    "print (\"The name of person is %s marks is %f  age is %d\"%(name,marks, age))\n",
    "# Using Formated Output \n",
    "# %s is string, %f is float, %d is integer"
   ]
  },
  {
   "cell_type": "code",
   "execution_count": 38,
   "metadata": {},
   "outputs": [
    {
     "name": "stdout",
     "output_type": "stream",
     "text": [
      "The name of person is      Harsh marks is  90.000000  age is         30\n"
     ]
    }
   ],
   "source": [
    "name = \"Harsh\"\n",
    "marks = 90\n",
    "age = 30\n",
    "print (\"The name of person is %10s marks is %10f  age is %10d\"%(name,marks, age))\n",
    "# Using Formated Output \n",
    "# %10s is string, %10f is float, %10d is integer all with space"
   ]
  },
  {
   "cell_type": "code",
   "execution_count": 39,
   "metadata": {},
   "outputs": [
    {
     "name": "stdout",
     "output_type": "stream",
     "text": [
      "The name of person is      Harsh/n marks is  90.000000/n  age is         30\n"
     ]
    }
   ],
   "source": [
    "name = \"Harsh\"\n",
    "marks = 90\n",
    "age = 30\n",
    "print (\"The name of person is %10s/n marks is %10f/n  age is %10d\"%(name,marks, age))\n",
    "# Using Formated Output \n",
    "# %10s is string, %10f is float, %10d is integer all with space"
   ]
  },
  {
   "cell_type": "code",
   "execution_count": 40,
   "metadata": {},
   "outputs": [
    {
     "name": "stdout",
     "output_type": "stream",
     "text": [
      "The name of person is      Harsh\n",
      " marks is  90.000000\n",
      "  age is         30\n"
     ]
    }
   ],
   "source": [
    "name = \"Harsh\"\n",
    "marks = 90\n",
    "age = 30\n",
    "print (\"The name of person is %10s\\n marks is %10f\\n  age is %10d\"%(name,marks, age))\n",
    "# Using Formated Output & \\n new line character \n",
    "# %10s\\n is string, %10f\\n is float, %10d\\n is integer all with space"
   ]
  },
  {
   "cell_type": "code",
   "execution_count": 41,
   "metadata": {},
   "outputs": [
    {
     "name": "stdout",
     "output_type": "stream",
     "text": [
      "The name of person is      Harsh\n",
      "marks is            90.000000\n",
      "age is                   30\n"
     ]
    }
   ],
   "source": [
    "name = \"Harsh\"\n",
    "marks = 90\n",
    "age = 30\n",
    "print (\"The name of person is %10s\\nmarks is %20f\\nage is %20d\"%(name,marks, age))\n",
    "# Using Formated Output & \\n new line character \n",
    "# %10s\\n is string, %20f\\n is float, %20d\\n is integer all with space"
   ]
  },
  {
   "cell_type": "code",
   "execution_count": 42,
   "metadata": {},
   "outputs": [
    {
     "name": "stdout",
     "output_type": "stream",
     "text": [
      "The name of person is      Harsh\n",
      "marks is                    90.000000\n",
      "age is                     30\n"
     ]
    }
   ],
   "source": [
    "name = \"Harsh\"\n",
    "marks = 90\n",
    "age = 30\n",
    "print (\"The name of person is %10s\\nmarks is %28f\\nage is %22d\"%(name,marks, age))\n",
    "# Using Formated Output & \\n new line character \n",
    "# %10s\\n is string, %28f\\n is float, %22d\\n is integer all with space"
   ]
  },
  {
   "cell_type": "code",
   "execution_count": 44,
   "metadata": {},
   "outputs": [
    {
     "name": "stdout",
     "output_type": "stream",
     "text": [
      "The name of person is      Harsh\n",
      "marks is                   90.000000\n",
      "age is                     30\n"
     ]
    }
   ],
   "source": [
    "name = \"Harsh\"\n",
    "marks = 90\n",
    "age = 30\n",
    "print (\"The name of person is %10s\\nmarks is %27f\\nage is %22d\"%(name,marks, age))\n",
    "# Using Formated Output & \\n new line character \n",
    "# %10s\\n is string, %27f\\n is float, %22d\\n is integer all with space"
   ]
  },
  {
   "cell_type": "code",
   "execution_count": 45,
   "metadata": {},
   "outputs": [
    {
     "name": "stdout",
     "output_type": "stream",
     "text": [
      "The name of person is      Harsh marks is  90.867500  age is         30\n"
     ]
    }
   ],
   "source": [
    "name = \"Harsh\"\n",
    "marks = 90.8675\n",
    "age = 30\n",
    "print (\"The name of person is %10s marks is %10f  age is %10d\"%(name,marks, age))\n",
    "# Using Formated Output \n",
    "# %10s is string, %10f is float, %10d is integer all with space"
   ]
  },
  {
   "cell_type": "code",
   "execution_count": 46,
   "metadata": {},
   "outputs": [
    {
     "name": "stdout",
     "output_type": "stream",
     "text": [
      "The name of person is      Harsh marks is      90.87  age is         30\n"
     ]
    }
   ],
   "source": [
    "name = \"Harsh\"\n",
    "marks = 90.8675\n",
    "age = 30\n",
    "print (\"The name of person is %10s marks is %10.2f  age is %10d\"%(name,marks, age))\n",
    "# Using Formated Output \n",
    "# %10s is string, %10f is float all with space\n",
    "# %10.2d is integer is with space & accurate upto 2 decimal"
   ]
  },
  {
   "cell_type": "code",
   "execution_count": 47,
   "metadata": {},
   "outputs": [
    {
     "name": "stdout",
     "output_type": "stream",
     "text": [
      "The name of person is Harsh marks is 90.8675  age is 30\n"
     ]
    }
   ],
   "source": [
    "print (f\"The name of person is {name} marks is {90.8675}  age is {age}\")"
   ]
  },
  {
   "cell_type": "code",
   "execution_count": 50,
   "metadata": {},
   "outputs": [
    {
     "name": "stdout",
     "output_type": "stream",
     "text": [
      "The name of person is Harsh marks is 90.8675  age is 30\n"
     ]
    }
   ],
   "source": [
    "print (f\"The name of person is {name} marks is {marks}  age is {age}\")\n",
    "# Formated Output"
   ]
  },
  {
   "cell_type": "code",
   "execution_count": null,
   "metadata": {},
   "outputs": [],
   "source": []
  }
 ],
 "metadata": {
  "kernelspec": {
   "display_name": "Python 3",
   "language": "python",
   "name": "python3"
  },
  "language_info": {
   "codemirror_mode": {
    "name": "ipython",
    "version": 3
   },
   "file_extension": ".py",
   "mimetype": "text/x-python",
   "name": "python",
   "nbconvert_exporter": "python",
   "pygments_lexer": "ipython3",
   "version": "3.7.6"
  }
 },
 "nbformat": 4,
 "nbformat_minor": 4
}
