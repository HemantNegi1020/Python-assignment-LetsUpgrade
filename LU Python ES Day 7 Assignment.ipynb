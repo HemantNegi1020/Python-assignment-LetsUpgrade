{
 "cells": [
  {
   "cell_type": "code",
   "execution_count": 2,
   "metadata": {},
   "outputs": [
    {
     "name": "stdout",
     "output_type": "stream",
     "text": [
      "{'FTP': 21, 'SSH': 22, 'Telnet': 23, 'http': 80}\n"
     ]
    }
   ],
   "source": [
    "# Use the dictionary, and make a new dictionary in which keys become values and values become keys.\n",
    "# port1 = {21:\"FTP\", 22:\"SSH\", 23:\"Telnet\", 80:\"http\"}\n",
    "# Output port2 = {\"FTP\":21, \"SSH\":22, \"telnet\":23, \"http\":80}\n",
    "\n",
    "port1 = {21:\"FTP\", 22:\"SSH\", 23:\"Telnet\", 80:\"http\"}\n",
    "port2 = {a:b for b,a in port1.items()}\n",
    "\n",
    "print(port2)"
   ]
  },
  {
   "cell_type": "code",
   "execution_count": 4,
   "metadata": {},
   "outputs": [
    {
     "name": "stdout",
     "output_type": "stream",
     "text": [
      "{'FTP': 21, 'SSH': 22, 'Telnet': 23, 'http': 80}\n",
      "New dictionary {'FTP': 21, 'SSH': 22, 'Telnet': 23, 'http': 80}\n"
     ]
    }
   ],
   "source": [
    "# Use the dictionary, and make a new dictionary in which keys become values and values become keys.\n",
    "# port1 = {21:\"FTP\", 22:\"SSH\", 23:\"Telnet\", 80:\"http\"}\n",
    "# Output port2 = {\"FTP\":21, \"SSH\":22, \"telnet\":23, \"http\":80}\n",
    "\n",
    "port1 = {21:\"FTP\", 22:\"SSH\", 23:\"Telnet\", 80:\"http\"}\n",
    "port2 = {a:b for b,a in port1.items()}\n",
    "\n",
    "print(port2)\n",
    "print(\"New dictionary\", port2)"
   ]
  },
  {
   "cell_type": "code",
   "execution_count": 5,
   "metadata": {},
   "outputs": [
    {
     "name": "stdout",
     "output_type": "stream",
     "text": [
      "New dictionary {'FTP': 21, 'SSH': 22, 'Telnet': 23, 'http': 80}\n"
     ]
    }
   ],
   "source": [
    "port1 = {21:\"FTP\", 22:\"SSH\", 23:\"Telnet\", 80:\"http\"}\n",
    "port2 = {a:b for b,a in port1.items()}\n",
    "\n",
    "print(\"New dictionary\", port2)"
   ]
  },
  {
   "cell_type": "code",
   "execution_count": 9,
   "metadata": {},
   "outputs": [
    {
     "name": "stdout",
     "output_type": "stream",
     "text": [
      "New dictionary {'FTP': 21, 'SSH': 22, 'Telnet': 23, 'http': 80}\n"
     ]
    }
   ],
   "source": [
    "port1 = {21:\"FTP\", 22:\"SSH\", 23:\"Telnet\", 80:\"http\"}\n",
    "port2 = {a:b for b,a in port1.items()}\n",
    "\n",
    "print(\"New dictionary\", port2)"
   ]
  },
  {
   "cell_type": "code",
   "execution_count": 10,
   "metadata": {},
   "outputs": [
    {
     "name": "stdout",
     "output_type": "stream",
     "text": [
      "sum of tuple is  [3, 7, 11, 9]\n"
     ]
    }
   ],
   "source": [
    "#Take a list of tuple as shown: [(1,2), (3,4), (5,6), (4,5)] \n",
    "#Make a new list which contains the sum of the number of tuples. \n",
    "#For Eg. Input  [(1,2), (3,4), (5,6)]\n",
    "# Output [3, 7, 11]\n",
    "\n",
    "tup1 = [(1,2),(3,4),(5,6),(4,5)]\n",
    "sum1 = []\n",
    "for each in range(len(tup1)):\n",
    "    h,k = tup1[each]\n",
    "    sum1.append(h+k)\n",
    "print(\"sum of tuple is \", sum1)"
   ]
  },
  {
   "cell_type": "code",
   "execution_count": 13,
   "metadata": {},
   "outputs": [
    {
     "name": "stdout",
     "output_type": "stream",
     "text": [
      "sum of tuple is  [12, 7, 11, 9]\n"
     ]
    }
   ],
   "source": [
    "#Take a list of tuple.....\n",
    "#Make a new list which contains the sum of the number of tuples. \n",
    "\n",
    "tup1 = [(10,2),(3,4),(5,6),(4,5)]\n",
    "sum1 = []\n",
    "for each in range(len(tup1)):\n",
    "    h,k = tup1[each]\n",
    "    sum1.append(h+k)\n",
    "print(\"sum of tuple is \", sum1)"
   ]
  },
  {
   "cell_type": "code",
   "execution_count": 14,
   "metadata": {},
   "outputs": [
    {
     "name": "stdout",
     "output_type": "stream",
     "text": [
      "sum of tuple is  [22, 57, 101, 118]\n"
     ]
    }
   ],
   "source": [
    "#Take a list of tuple.....\n",
    "#Make a new list which contains the sum of the number of tuples. \n",
    "\n",
    "tup1 = [(10,12),(33,24),(45,56),(64,54)]\n",
    "sum1 = []\n",
    "for each in range(len(tup1)):\n",
    "    h,k = tup1[each]\n",
    "    sum1.append(h+k)\n",
    "print(\"sum of tuple is \", sum1)"
   ]
  },
  {
   "cell_type": "code",
   "execution_count": 15,
   "metadata": {},
   "outputs": [
    {
     "name": "stdout",
     "output_type": "stream",
     "text": [
      "New list is: [1, 2, 3, 1, 2, 'a', 'hit', 'less']\n"
     ]
    }
   ],
   "source": [
    "#Take a list a s shown below\n",
    "# [(1,2,3), [1,2], ['a', 'hit','less']]\n",
    "# The list contains tuple and lists. Make the elements of inner lists and tuples to outer list\n",
    "\n",
    "list1=[(1,2,3),[1,2],['a','hit','less']]\n",
    "list2=[]\n",
    "list2=[a for each in list1 for a in each]\n",
    "print (\"New list is:\",list2)"
   ]
  },
  {
   "cell_type": "code",
   "execution_count": 16,
   "metadata": {},
   "outputs": [
    {
     "name": "stdout",
     "output_type": "stream",
     "text": [
      "New list is: [1, 2, 3, 5, 4, 56, 1, 2, 4, 5, 'a', 'hit', 'less', 'dell']\n"
     ]
    }
   ],
   "source": [
    "#Take a list a s shown below\n",
    "# The list contains tuple and lists. Make the elements of inner lists and tuples to outer list\n",
    "\n",
    "list1=[(1,2,3,5,4,56),[1,2,4,5],['a','hit','less','dell']]\n",
    "list2=[]\n",
    "list2=[b for each in list1 for b in each]\n",
    "print (\"New list is:\",list2)"
   ]
  },
  {
   "cell_type": "code",
   "execution_count": null,
   "metadata": {},
   "outputs": [],
   "source": []
  }
 ],
 "metadata": {
  "kernelspec": {
   "display_name": "Python 3",
   "language": "python",
   "name": "python3"
  },
  "language_info": {
   "codemirror_mode": {
    "name": "ipython",
    "version": 3
   },
   "file_extension": ".py",
   "mimetype": "text/x-python",
   "name": "python",
   "nbconvert_exporter": "python",
   "pygments_lexer": "ipython3",
   "version": "3.7.6"
  }
 },
 "nbformat": 4,
 "nbformat_minor": 4
}
