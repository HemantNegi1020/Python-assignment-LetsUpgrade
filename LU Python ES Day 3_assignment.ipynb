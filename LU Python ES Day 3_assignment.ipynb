{
 "cells": [
  {
   "cell_type": "code",
   "execution_count": 2,
   "metadata": {},
   "outputs": [
    {
     "name": "stdout",
     "output_type": "stream",
     "text": [
      "Enter the value of n: 4\n",
      "Sum of first 4 numbers is:  10\n"
     ]
    }
   ],
   "source": [
    "num1 = int(input(\"Enter the value of n: \"))\n",
    "dell = num1\n",
    "sum1 = 0\n",
    "\n",
    "if num1 <=0:\n",
    "   print (\"Enter the whole positive number!\")\n",
    "else:\n",
    "    while num1 > 0:\n",
    "        sum1 = sum1 + num1\n",
    "        num1 = num1 - 1;\n",
    "\n",
    "print(\"Sum of first\", dell, \"numbers is: \", sum1)\n",
    "\n",
    "\n",
    "# calculate the sum of n numbers \n",
    "# n denotes upto which number to calculate the sum\n",
    "# here n = 4... Sum of first 4 numbers"
   ]
  },
  {
   "cell_type": "code",
   "execution_count": 3,
   "metadata": {},
   "outputs": [
    {
     "name": "stdout",
     "output_type": "stream",
     "text": [
      "Enter the value of n: 10\n",
      "Sum of first 10 numbers is:  55\n"
     ]
    }
   ],
   "source": [
    "num1 = int(input(\"Enter the value of n: \"))\n",
    "dell = num1\n",
    "sum1 = 0\n",
    "\n",
    "if num1 <=0:\n",
    "   print (\"Enter the whole positive number!\")\n",
    "else:\n",
    "    while num1 > 0:\n",
    "        sum1 = sum1 + num1\n",
    "        num1 = num1 - 1;\n",
    "\n",
    "print(\"Sum of first\", dell, \"numbers is: \", sum1)\n",
    "\n",
    "\n",
    "# calculate the sum of n numbers \n",
    "# n denotes upto which number to calculate the sum\n",
    "# here n = 10... Sum of first 10 numbers"
   ]
  },
  {
   "cell_type": "code",
   "execution_count": 4,
   "metadata": {},
   "outputs": [
    {
     "name": "stdout",
     "output_type": "stream",
     "text": [
      "Enter the value of n: 25\n",
      "Sum of first 25 numbers is:  325\n"
     ]
    }
   ],
   "source": [
    "num1 = int(input(\"Enter the value of n: \"))\n",
    "dell = num1\n",
    "sum1 = 0\n",
    "\n",
    "if num1 <=0:\n",
    "   print (\"Enter the whole positive number!\")\n",
    "else:\n",
    "    while num1 > 0:\n",
    "        sum1 = sum1 + num1\n",
    "        num1 = num1 - 1;\n",
    "\n",
    "print(\"Sum of first\", dell, \"numbers is: \", sum1)\n",
    "\n",
    "\n",
    "# calculate the sum of n numbers \n",
    "# n denotes upto which number to calculate the sum\n",
    "# here n = 25... Sum of first 25 numbers"
   ]
  },
  {
   "cell_type": "code",
   "execution_count": 5,
   "metadata": {},
   "outputs": [
    {
     "name": "stdout",
     "output_type": "stream",
     "text": [
      "Enter the value of n: 100\n",
      "Sum of first 100 numbers is:  5050\n"
     ]
    }
   ],
   "source": [
    "num1 = int(input(\"Enter the value of n: \"))\n",
    "dell = num1\n",
    "sum1 = 0\n",
    "\n",
    "if num1 <=0:\n",
    "   print (\"Enter the whole positive number!\")\n",
    "else:\n",
    "    while num1 > 0:\n",
    "        sum1 = sum1 + num1\n",
    "        num1 = num1 - 1;\n",
    "\n",
    "print(\"Sum of first\", dell, \"numbers is: \", sum1)\n",
    "\n",
    "\n",
    "# calculate the sum of n numbers \n",
    "# n denotes upto which number to calculate the sum\n",
    "# here n = 100... Sum of first 100 numbers"
   ]
  },
  {
   "cell_type": "code",
   "execution_count": 6,
   "metadata": {},
   "outputs": [
    {
     "name": "stdout",
     "output_type": "stream",
     "text": [
      "Enter the value of n: 999\n",
      "Sum of first 999 numbers is:  499500\n"
     ]
    }
   ],
   "source": [
    "num1 = int(input(\"Enter the value of n: \"))\n",
    "dell = num1\n",
    "sum1 = 0\n",
    "\n",
    "if num1 <=0:\n",
    "   print (\"Enter the whole positive number!\")\n",
    "else:\n",
    "    while num1 > 0:\n",
    "        sum1 = sum1 + num1\n",
    "        num1 = num1 - 1;\n",
    "\n",
    "print(\"Sum of first\", dell, \"numbers is: \", sum1)\n",
    "\n",
    "\n",
    "# calculate the sum of n numbers \n",
    "# n denotes upto which number to calculate the sum\n",
    "# here n = 999... Sum of first 999 numbers"
   ]
  },
  {
   "cell_type": "code",
   "execution_count": 7,
   "metadata": {},
   "outputs": [
    {
     "name": "stdout",
     "output_type": "stream",
     "text": [
      "Enter any number: 5\n",
      "5 is a prime number\n"
     ]
    }
   ],
   "source": [
    "num = int(input(\"Enter any number: \"))\n",
    "\n",
    "if num > 1:\n",
    "    for i in range(2, num):\n",
    "        if (num % i) ==0:\n",
    "            print(num, \"is not a prime number\")\n",
    "            break\n",
    "            \n",
    "    else:\n",
    "        print(num, \"is a prime number\")\n",
    "else:\n",
    "    print(num, \"is not a prime number\")\n",
    "\n",
    "\n",
    "# Enter integer find---> is prime or not \n",
    "# prime number is always greater than 1\n",
    "# if the entered number is less than or equal to 1\n",
    "# then it is not prime number"
   ]
  },
  {
   "cell_type": "code",
   "execution_count": 8,
   "metadata": {},
   "outputs": [
    {
     "name": "stdout",
     "output_type": "stream",
     "text": [
      "Enter any number: 1\n",
      "1 is not a prime number\n"
     ]
    }
   ],
   "source": [
    "num = int(input(\"Enter any number: \"))\n",
    "\n",
    "if num > 1:\n",
    "    for i in range(2, num):\n",
    "        if (num % i) ==0:\n",
    "            print(num, \"is not a prime number\")\n",
    "            break\n",
    "            \n",
    "    else:\n",
    "        print(num, \"is a prime number\")\n",
    "else:\n",
    "    print(num, \"is not a prime number\")\n",
    "\n",
    "\n",
    "# Enter integer find---> is prime or not \n",
    "# prime number is always greater than 1\n",
    "# if the entered number is less than or equal to 1\n",
    "# then it is not prime number"
   ]
  },
  {
   "cell_type": "code",
   "execution_count": 9,
   "metadata": {},
   "outputs": [
    {
     "name": "stdout",
     "output_type": "stream",
     "text": [
      "Enter any number: 57\n",
      "57 is not a prime number\n"
     ]
    }
   ],
   "source": [
    "num = int(input(\"Enter any number: \"))\n",
    "\n",
    "if num > 1:\n",
    "    for i in range(2, num):\n",
    "        if (num % i) ==0:\n",
    "            print(num, \"is not a prime number\")\n",
    "            break\n",
    "            \n",
    "    else:\n",
    "        print(num, \"is a prime number\")\n",
    "else:\n",
    "    print(num, \"is not a prime number\")\n",
    "\n",
    "\n",
    "# Enter integer find---> is prime or not \n",
    "# prime number is always greater than 1\n",
    "# if the entered number is less than or equal to 1\n",
    "# then it is not prime number"
   ]
  },
  {
   "cell_type": "code",
   "execution_count": 10,
   "metadata": {},
   "outputs": [
    {
     "name": "stdout",
     "output_type": "stream",
     "text": [
      "Enter any number: 347568\n",
      "347568 is not a prime number\n"
     ]
    }
   ],
   "source": [
    "num = int(input(\"Enter any number: \"))\n",
    "\n",
    "if num > 1:\n",
    "    for i in range(2, num):\n",
    "        if (num % i) ==0:\n",
    "            print(num, \"is not a prime number\")\n",
    "            break\n",
    "            \n",
    "    else:\n",
    "        print(num, \"is a prime number\")\n",
    "else:\n",
    "    print(num, \"is not a prime number\")\n",
    "\n",
    "\n",
    "# Enter integer. find---> is prime or not \n",
    "# prime number is always greater than 1\n",
    "# if the entered number is less than or equal to 1\n",
    "# then it is not prime number"
   ]
  },
  {
   "cell_type": "code",
   "execution_count": 11,
   "metadata": {},
   "outputs": [
    {
     "name": "stdout",
     "output_type": "stream",
     "text": [
      "Enter any number: 677\n",
      "677 is a prime number\n"
     ]
    }
   ],
   "source": [
    "num = int(input(\"Enter any number: \"))\n",
    "\n",
    "if num > 1:\n",
    "    for i in range(2, num):\n",
    "        if (num % i) ==0:\n",
    "            print(num, \"is not a prime number\")\n",
    "            break\n",
    "            \n",
    "    else:\n",
    "        print(num, \"is a prime number\")\n",
    "else:\n",
    "    print(num, \"is not a prime number\")\n",
    "\n",
    "\n",
    "# Enter integer find---> is prime or not \n",
    "# prime number is always greater than 1\n",
    "# if the entered number is less than or equal to 1\n",
    "# then it is not prime number"
   ]
  },
  {
   "cell_type": "code",
   "execution_count": null,
   "metadata": {},
   "outputs": [],
   "source": []
  }
 ],
 "metadata": {
  "kernelspec": {
   "display_name": "Python 3",
   "language": "python",
   "name": "python3"
  },
  "language_info": {
   "codemirror_mode": {
    "name": "ipython",
    "version": 3
   },
   "file_extension": ".py",
   "mimetype": "text/x-python",
   "name": "python",
   "nbconvert_exporter": "python",
   "pygments_lexer": "ipython3",
   "version": "3.7.6"
  }
 },
 "nbformat": 4,
 "nbformat_minor": 4
}
