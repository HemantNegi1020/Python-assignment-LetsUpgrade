{
 "cells": [
  {
   "cell_type": "code",
   "execution_count": 3,
   "metadata": {},
   "outputs": [
    {
     "name": "stdout",
     "output_type": "stream",
     "text": [
      "[78, 55, 45, 34, 22, 10, 4, 3, 2, 1, 1, 1, 0, 0, 0, 0]\n"
     ]
    }
   ],
   "source": [
    "#sort the data in increasing order but all zeroes present should be move towards right hand side:\n",
    "\n",
    "order1=[0,1,2,3,22,10,4,1,0,45,55,0,34,78,1,0]\n",
    "\n",
    "order1.sort(reverse=1)\n",
    "\n",
    "print (order1)\n"
   ]
  },
  {
   "cell_type": "code",
   "execution_count": 5,
   "metadata": {},
   "outputs": [
    {
     "name": "stdout",
     "output_type": "stream",
     "text": [
      "[56, 56, 10, 4, 4, 3, 2, 2, 1, 1, 1, 0, 0, 0, 0, 0]\n"
     ]
    }
   ],
   "source": [
    "#[0,1,2,10,4,1,0,56,2,0,1,3,0,56,0,4] sort increasing order but all zeroes should be at right hand side.\n",
    "\n",
    "order2=[0,1,2,10,4,1,0,56,2,0,1,3,0,56,0,4]\n",
    "order2.sort(reverse=1)\n",
    "\n",
    "print (order2)"
   ]
  },
  {
   "cell_type": "code",
   "execution_count": 6,
   "metadata": {},
   "outputs": [
    {
     "name": "stdout",
     "output_type": "stream",
     "text": [
      "[1, 1, 1, 2, 2, 3, 4, 4, 10, 56, 56, 0, 0, 0, 0, 0]\n"
     ]
    }
   ],
   "source": [
    "#[0,1,2,10,4,1,0,56,2,0,1,3,0,56,0,4] sort increasing order but all zeroes should be at right hand side.\n",
    "\n",
    "order3 = [0,1,2,10,4,1,0,56,2,0,1,3,0,56,0,4]\n",
    "order3.sort()\n",
    "a = order3.count(0);\n",
    "print(order3[a:]+order3[:a])"
   ]
  },
  {
   "cell_type": "code",
   "execution_count": 9,
   "metadata": {},
   "outputs": [
    {
     "name": "stdout",
     "output_type": "stream",
     "text": [
      "[5, 10, 15, 20, 25, 35, 40, 45, 60, 70, 80]\n"
     ]
    }
   ],
   "source": [
    "#list1 = [10,20,40,60,70,80] sorted list\n",
    "#list2 = [5,15,25,35,45,60] sorted list\n",
    "#merge these 2 sorted list produce one sorted list, but use only one loop\n",
    "\n",
    "list1 = [10,20,40,60,70,80]\n",
    "list2 = [5,15,25,35,45,60]\n",
    "\n",
    "mergelist3 = list1 + list2\n",
    "\n",
    "sortlist4 = []\n",
    "\n",
    "for h in range(min(mergelist3),max(mergelist3)+1):\n",
    "    if h in mergelist3:\n",
    "        sortlist4.append(h)\n",
    "        \n",
    "print(sortlist4)"
   ]
  },
  {
   "cell_type": "code",
   "execution_count": 10,
   "metadata": {},
   "outputs": [
    {
     "name": "stdout",
     "output_type": "stream",
     "text": [
      "[0, 3, 20, 34, 45, 56, 57, 65, 67, 76, 87]\n"
     ]
    }
   ],
   "source": [
    "#list1 = [0,20,56,76,34,65] sorted list\n",
    "#list2 = [3,56,87,67,57,45] sorted list\n",
    "#merge these 2 sorted list produce one sorted list, but use only one loop\n",
    "\n",
    "list1 = [0,20,56,76,34,65]\n",
    "list2 = [3,56,87,67,57,45]\n",
    "\n",
    "mergelist3 = list1 + list2\n",
    "\n",
    "sortlist4 = []\n",
    "\n",
    "for h in range(min(mergelist3),max(mergelist3)+1):\n",
    "    if h in mergelist3:\n",
    "        sortlist4.append(h)\n",
    "        \n",
    "print(sortlist4)"
   ]
  },
  {
   "cell_type": "code",
   "execution_count": null,
   "metadata": {},
   "outputs": [],
   "source": []
  }
 ],
 "metadata": {
  "kernelspec": {
   "display_name": "Python 3",
   "language": "python",
   "name": "python3"
  },
  "language_info": {
   "codemirror_mode": {
    "name": "ipython",
    "version": 3
   },
   "file_extension": ".py",
   "mimetype": "text/x-python",
   "name": "python",
   "nbconvert_exporter": "python",
   "pygments_lexer": "ipython3",
   "version": "3.7.6"
  }
 },
 "nbformat": 4,
 "nbformat_minor": 4
}
