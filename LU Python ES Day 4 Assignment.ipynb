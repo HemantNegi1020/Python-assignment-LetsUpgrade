{
 "cells": [
  {
   "cell_type": "code",
   "execution_count": 1,
   "metadata": {},
   "outputs": [
    {
     "name": "stdout",
     "output_type": "stream",
     "text": [
      "The count is: 2\n"
     ]
    }
   ],
   "source": [
    "#find all occurrence of the substring in a given string\n",
    "\n",
    "string = \"Python is awesome, isn't it?\"\n",
    "substring = \"is\"\n",
    "\n",
    "count = string.count(substring)\n",
    "\n",
    "# print count\n",
    "print(\"The count is:\", count)"
   ]
  },
  {
   "cell_type": "code",
   "execution_count": 2,
   "metadata": {},
   "outputs": [
    {
     "name": "stdout",
     "output_type": "stream",
     "text": [
      "The count is: 3\n"
     ]
    }
   ],
   "source": [
    "#find all occurrence of the substring in a given string\n",
    "\n",
    "string = \"Python is not as simple as it looks and as it should be\"\n",
    "substring = \"as\"\n",
    "\n",
    "count = string.count(substring)\n",
    "\n",
    "# print count\n",
    "print(\"The count is:\", count)"
   ]
  },
  {
   "cell_type": "code",
   "execution_count": 3,
   "metadata": {},
   "outputs": [
    {
     "name": "stdout",
     "output_type": "stream",
     "text": [
      "3\n"
     ]
    }
   ],
   "source": [
    "# Python code to find occurrences \n",
    "# of a substring in a string \n",
    "\n",
    "# defining a string\n",
    "str1 = \"we don't see things as they are, we see them as we are\"\n",
    "\n",
    "# finding occurrences of 'we'\n",
    "# in complete string\n",
    "print(str1.count(\"we\"))"
   ]
  },
  {
   "cell_type": "code",
   "execution_count": 4,
   "metadata": {},
   "outputs": [
    {
     "name": "stdout",
     "output_type": "stream",
     "text": [
      "1\n"
     ]
    }
   ],
   "source": [
    "# finding occurrences of 'we'\n",
    "# from 0 to 20 index\n",
    "print(str1.count(\"we\",0,20))\n"
   ]
  },
  {
   "cell_type": "code",
   "execution_count": 5,
   "metadata": {},
   "outputs": [
    {
     "name": "stdout",
     "output_type": "stream",
     "text": [
      "2\n"
     ]
    }
   ],
   "source": [
    "# finding occurrences of 'see'\n",
    "# in complete string\n",
    "print(str1.count(\"see\"))"
   ]
  },
  {
   "cell_type": "code",
   "execution_count": 6,
   "metadata": {},
   "outputs": [
    {
     "name": "stdout",
     "output_type": "stream",
     "text": [
      "2\n"
     ]
    }
   ],
   "source": [
    "# finding occurrences of 'see'\n",
    "# from 0 to 40 index\n",
    "print(str1.count(\"see\",0,40))"
   ]
  },
  {
   "cell_type": "code",
   "execution_count": 7,
   "metadata": {},
   "outputs": [
    {
     "name": "stdout",
     "output_type": "stream",
     "text": [
      "2\n"
     ]
    }
   ],
   "source": [
    "# finding occurrences of 'we'\n",
    "# from 0 to 20 index\n",
    "print(str1.count(\"we\",0,40))"
   ]
  },
  {
   "cell_type": "code",
   "execution_count": 8,
   "metadata": {},
   "outputs": [
    {
     "name": "stdout",
     "output_type": "stream",
     "text": [
      "True\n"
     ]
    }
   ],
   "source": [
    "#islower() ---> with different kind of strings\n",
    "\n",
    "low1 = 'everything is in lower case'\n",
    "print(low1.islower())"
   ]
  },
  {
   "cell_type": "code",
   "execution_count": 9,
   "metadata": {},
   "outputs": [
    {
     "name": "stdout",
     "output_type": "stream",
     "text": [
      "False\n"
     ]
    }
   ],
   "source": [
    "#islower() ---> with different kind of strings\n",
    "\n",
    "low1 = 'Everything is in lower case'\n",
    "print(low1.islower())"
   ]
  },
  {
   "cell_type": "code",
   "execution_count": 10,
   "metadata": {},
   "outputs": [
    {
     "name": "stdout",
     "output_type": "stream",
     "text": [
      "Does not contain uppercase letter.\n"
     ]
    }
   ],
   "source": [
    "#islower() ---> with different kind of strings\n",
    "\n",
    "low1 = 'everything is in lower case'\n",
    "if low1.islower() == True:\n",
    "  print('Does not contain uppercase letter.')\n",
    "else:\n",
    "  print('Contains uppercase letter.')"
   ]
  },
  {
   "cell_type": "code",
   "execution_count": 11,
   "metadata": {},
   "outputs": [
    {
     "name": "stdout",
     "output_type": "stream",
     "text": [
      "Contains uppercase letter.\n"
     ]
    }
   ],
   "source": [
    "low1 = 'Everything is in lower case'\n",
    "if low1.islower() == True:\n",
    "  print('Does not contain uppercase letter.')\n",
    "else:\n",
    "  print('Contains uppercase letter.')"
   ]
  },
  {
   "cell_type": "code",
   "execution_count": 14,
   "metadata": {
    "scrolled": true
   },
   "outputs": [
    {
     "name": "stdout",
     "output_type": "stream",
     "text": [
      "True\n"
     ]
    }
   ],
   "source": [
    "#isupper() ---> with different kind of strings\n",
    "\n",
    "UPP1 = 'OPERATION WAS SUCESSFULL'\n",
    "print(UPP1.isupper())"
   ]
  },
  {
   "cell_type": "code",
   "execution_count": 15,
   "metadata": {},
   "outputs": [
    {
     "name": "stdout",
     "output_type": "stream",
     "text": [
      "False\n"
     ]
    }
   ],
   "source": [
    "#isupper() ---> with different kind of strings\n",
    "\n",
    "UPP1 = 'OPERATION was SUCESSFULL'\n",
    "print(UPP1.isupper())"
   ]
  },
  {
   "cell_type": "code",
   "execution_count": 16,
   "metadata": {},
   "outputs": [
    {
     "name": "stdout",
     "output_type": "stream",
     "text": [
      "Contains uppercase letter.\n"
     ]
    }
   ],
   "source": [
    "#isupper() ---> with different kind of strings\n",
    "\n",
    "UPP1 = 'OPERATION WAS SUCESSFULL'\n",
    "if UPP1.isupper() == True:\n",
    "  print('Contains uppercase letter.')\n",
    "else:\n",
    "  print('Does not contain uppercase letter.')"
   ]
  },
  {
   "cell_type": "code",
   "execution_count": 18,
   "metadata": {},
   "outputs": [
    {
     "name": "stdout",
     "output_type": "stream",
     "text": [
      "Does not contain all uppercase letter.\n"
     ]
    }
   ],
   "source": [
    "#isupper() ---> with different kind of strings\n",
    "\n",
    "UPP1 = 'OPERATION WAS sUCESSFULL'\n",
    "if UPP1.isupper() == True:\n",
    "  print('Contains uppercase letter.')\n",
    "else:\n",
    "  print('Does not contain all uppercase letter.')"
   ]
  },
  {
   "cell_type": "code",
   "execution_count": null,
   "metadata": {},
   "outputs": [],
   "source": []
  }
 ],
 "metadata": {
  "kernelspec": {
   "display_name": "Python 3",
   "language": "python",
   "name": "python3"
  },
  "language_info": {
   "codemirror_mode": {
    "name": "ipython",
    "version": 3
   },
   "file_extension": ".py",
   "mimetype": "text/x-python",
   "name": "python",
   "nbconvert_exporter": "python",
   "pygments_lexer": "ipython3",
   "version": "3.7.6"
  }
 },
 "nbformat": 4,
 "nbformat_minor": 4
}
