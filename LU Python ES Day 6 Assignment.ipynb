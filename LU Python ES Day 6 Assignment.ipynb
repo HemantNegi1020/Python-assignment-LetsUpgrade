{
 "cells": [
  {
   "cell_type": "code",
   "execution_count": 1,
   "metadata": {},
   "outputs": [],
   "source": [
    "#list1=[1,2,3,4,5,7,8]\n",
    "#list2=[\"a\",\"b\",\"c\",\"d\",\"e\"]\n",
    "#convert to a dictionary\n",
    "#in one line code using list comprehension (without using zip method)\n",
    "\n",
    "list1=[1,2,3,4,5,7,8]\n",
    "list2=[\"a\",\"b\",\"c\",\"d\",\"e\"]"
   ]
  },
  {
   "cell_type": "code",
   "execution_count": 2,
   "metadata": {},
   "outputs": [
    {
     "data": {
      "text/plain": [
       "{1: 'a', 2: 'b', 3: 'c', 4: 'c', 5: 'e'}"
      ]
     },
     "execution_count": 2,
     "metadata": {},
     "output_type": "execute_result"
    }
   ],
   "source": [
    "dict1 = {list1[h]:list2[h] for h in range(len(list2))}\n",
    "dict1"
   ]
  },
  {
   "cell_type": "code",
   "execution_count": 3,
   "metadata": {},
   "outputs": [],
   "source": [
    "list1=[100,200,300,400,500,700,800]\n",
    "list2=[\"ant\",\"bat\",\"cup\",\"dam\",\"egg\",\"fog\",\"gum\"]"
   ]
  },
  {
   "cell_type": "code",
   "execution_count": 4,
   "metadata": {},
   "outputs": [
    {
     "data": {
      "text/plain": [
       "{100: 'ant',\n",
       " 200: 'bat',\n",
       " 300: 'cup',\n",
       " 400: 'dam',\n",
       " 500: 'egg',\n",
       " 700: 'fog',\n",
       " 800: 'gum'}"
      ]
     },
     "execution_count": 4,
     "metadata": {},
     "output_type": "execute_result"
    }
   ],
   "source": [
    "dict2 = {list1[k]:list2[k] for k in range(len(list2))}\n",
    "dict2"
   ]
  },
  {
   "cell_type": "code",
   "execution_count": 5,
   "metadata": {},
   "outputs": [],
   "source": [
    "list100=[10,20,30,40,50,70,80]\n",
    "list200=[\"name\",\"age\",\"school\",\"area\",\"colony\",\"religion\",\"caste\"]"
   ]
  },
  {
   "cell_type": "code",
   "execution_count": 6,
   "metadata": {},
   "outputs": [
    {
     "data": {
      "text/plain": [
       "{10: 'name',\n",
       " 20: 'age',\n",
       " 30: 'school',\n",
       " 40: 'area',\n",
       " 50: 'colony',\n",
       " 70: 'religion',\n",
       " 80: 'caste'}"
      ]
     },
     "execution_count": 6,
     "metadata": {},
     "output_type": "execute_result"
    }
   ],
   "source": [
    "dict3 = {list100[d]:list200[d] for d in range(len(list200))}\n",
    "dict3"
   ]
  },
  {
   "cell_type": "code",
   "execution_count": 7,
   "metadata": {},
   "outputs": [],
   "source": [
    "list3=[11,21,31,41,51,71,81]\n",
    "list4=[\"n\",\"a\",\"s\",\"r\",\"c\",\"r\",\"s\"]"
   ]
  },
  {
   "cell_type": "code",
   "execution_count": 9,
   "metadata": {},
   "outputs": [
    {
     "data": {
      "text/plain": [
       "{11: 'n', 21: 'a', 31: 's', 41: 'r', 51: 'c', 71: 'r', 81: 's'}"
      ]
     },
     "execution_count": 9,
     "metadata": {},
     "output_type": "execute_result"
    }
   ],
   "source": [
    "dict4 = {list3[u]:list4[u] for u in range(len(list4))}\n",
    "dict4"
   ]
  }
 ],
 "metadata": {
  "kernelspec": {
   "display_name": "Python 3",
   "language": "python",
   "name": "python3"
  },
  "language_info": {
   "codemirror_mode": {
    "name": "ipython",
    "version": 3
   },
   "file_extension": ".py",
   "mimetype": "text/x-python",
   "name": "python",
   "nbconvert_exporter": "python",
   "pygments_lexer": "ipython3",
   "version": "3.7.6"
  }
 },
 "nbformat": 4,
 "nbformat_minor": 4
}
